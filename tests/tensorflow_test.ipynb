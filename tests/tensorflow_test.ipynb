{
 "cells": [
  {
   "cell_type": "code",
   "execution_count": 2,
   "metadata": {},
   "outputs": [
    {
     "name": "stderr",
     "output_type": "stream",
     "text": [
      "2024-04-02 20:56:56.495004: I external/local_xla/xla/stream_executor/cuda/cuda_executor.cc:984] could not open file to read NUMA node: /sys/bus/pci/devices/0000:07:00.0/numa_node\n",
      "Your kernel may have been built without NUMA support.\n",
      "2024-04-02 20:56:56.657510: I external/local_xla/xla/stream_executor/cuda/cuda_executor.cc:984] could not open file to read NUMA node: /sys/bus/pci/devices/0000:07:00.0/numa_node\n",
      "Your kernel may have been built without NUMA support.\n",
      "2024-04-02 20:56:56.657622: I external/local_xla/xla/stream_executor/cuda/cuda_executor.cc:984] could not open file to read NUMA node: /sys/bus/pci/devices/0000:07:00.0/numa_node\n",
      "Your kernel may have been built without NUMA support.\n"
     ]
    },
    {
     "data": {
      "text/plain": [
       "[PhysicalDevice(name='/physical_device:GPU:0', device_type='GPU')]"
      ]
     },
     "execution_count": 2,
     "metadata": {},
     "output_type": "execute_result"
    }
   ],
   "source": [
    "import tensorflow as tf\n",
    "tf.config.list_physical_devices('GPU')"
   ]
  },
  {
   "cell_type": "code",
   "execution_count": 11,
   "metadata": {},
   "outputs": [],
   "source": [
    "c = tf.constant([[1.0, 4., 3., 2.0], [3.0, 4., 4., 4.0]])"
   ]
  },
  {
   "cell_type": "code",
   "execution_count": 20,
   "metadata": {},
   "outputs": [
    {
     "name": "stdout",
     "output_type": "stream",
     "text": [
      "tf.Tensor(\n",
      "[[1. 4. 3. 2.]\n",
      " [3. 4. 4. 4.]], shape=(2, 4), dtype=float32)\n",
      "tf.Tensor(\n",
      "[[1.]\n",
      " [3.]], shape=(2, 1), dtype=float32)\n",
      "tf.Tensor(\n",
      "[[4. 3. 2.]\n",
      " [4. 4. 4.]], shape=(2, 3), dtype=float32)\n"
     ]
    }
   ],
   "source": [
    "print(c)\n",
    "batch_size = 2\n",
    "dims = 4\n",
    "begin = 1\n",
    "\n",
    "mu = tf.slice(c, [0, 0], [batch_size, 1])\n",
    "cov = tf.slice(c, [0, begin], [batch_size, dims-begin])\n",
    "\n",
    "print(mu)\n",
    "print(cov)"
   ]
  },
  {
   "cell_type": "code",
   "execution_count": 4,
   "metadata": {},
   "outputs": [],
   "source": [
    "import sys; sys.path.insert(1, '..')\n",
    "import utility"
   ]
  },
  {
   "cell_type": "code",
   "execution_count": 2,
   "metadata": {},
   "outputs": [
    {
     "name": "stdout",
     "output_type": "stream",
     "text": [
      "dfH4 index: RangeIndex(start=0, stop=15426, step=1)\n"
     ]
    }
   ],
   "source": [
    "\n",
    "import pandas as pd\n",
    "\n",
    "pricesDataFolder = \"../prices_data/\"\n",
    "dfH4 = pd.read_csv(\n",
    "    filepath_or_buffer=pricesDataFolder+\"H4/[SP500]_H4_2014-03-20__2024-03-20.csv\",\n",
    "    delimiter=\"\\t\"\n",
    ")\n",
    "\n",
    "dfH4 = dfH4.rename(\n",
    "    columns = {\n",
    "        '<OPEN>':'open', \n",
    "        '<HIGH>':'high', \n",
    "        '<LOW>':'low', \n",
    "        '<CLOSE>':'close'\n",
    "    }\n",
    ")\n",
    "\n",
    "print(f'dfH4 index: {dfH4.index}')"
   ]
  },
  {
   "cell_type": "code",
   "execution_count": 14,
   "metadata": {},
   "outputs": [
    {
     "name": "stdout",
     "output_type": "stream",
     "text": [
      "strat index: 3236\n",
      "==========================================\n",
      "        open   close     low    high\n",
      "3346  2044.8  2039.8  2038.9  2045.5\n",
      "3347  2039.6  2037.2  2036.1  2042.7\n",
      "3348  2037.1  2039.4  2036.5  2044.3\n",
      "3349  2039.5  2027.9  2025.3  2043.1\n",
      "3350  2028.1  2042.0  2027.9  2042.2\n",
      "3351  2042.1  2047.4  2040.7  2047.7\n",
      "3352  2047.3  2047.9  2045.1  2049.0\n",
      "3353  2048.0  2048.9  2045.4  2050.4\n",
      "3354  2048.6  2048.4  2044.1  2048.9\n",
      "3355  2047.9  2055.7  2046.2  2058.9\n",
      "3356  2055.3  2052.2  2048.4  2056.3\n",
      "==========================================\n",
      "open     2055.3\n",
      "close    2052.2\n",
      "low      2048.4\n",
      "high     2056.3\n",
      "Name: 3356, dtype: float64\n"
     ]
    }
   ],
   "source": [
    "from random import choice\n",
    "longTermMAPeriod = 200\n",
    "strategyN = 3\n",
    "startIndex = choice(dfH4.index[longTermMAPeriod+strategyN: -100])\n",
    "i = 120\n",
    "nbrCandles = 10\n",
    "observation = dfH4[[\"open\", \"close\",\"low\", \"high\"]].loc[startIndex-nbrCandles+i:startIndex+i]\n",
    "print(f\"strat index: {startIndex}\")\n",
    "print(\"==========================================\")\n",
    "print(observation)\n",
    "print(\"==========================================\")\n",
    "print(observation.loc[startIndex+i])\n"
   ]
  },
  {
   "cell_type": "code",
   "execution_count": 4,
   "metadata": {},
   "outputs": [
    {
     "name": "stdout",
     "output_type": "stream",
     "text": [
      "tf.Tensor([1 2 2 6], shape=(4,), dtype=int32)\n",
      "tf.Tensor([[1 4 3 2]], shape=(1, 4), dtype=int32)\n",
      "tf.Tensor([[1 2 2 6]], shape=(1, 4), dtype=int32)\n",
      "tf.Tensor([[1 2 2 6 1 4 3 2]], shape=(1, 8), dtype=int32)\n"
     ]
    }
   ],
   "source": [
    "import tensorflow as tf\n",
    "a = tf.constant([1, 2, 2, 6])\n",
    "b = tf.constant([[1, 4, 3, 2]])\n",
    "print(a)\n",
    "print(b)\n",
    "\n",
    "a = tf.expand_dims(a, axis=0)\n",
    "print(a)\n",
    "\n",
    "print(tf.concat([a,b], axis=1))"
   ]
  },
  {
   "cell_type": "code",
   "execution_count": 10,
   "metadata": {},
   "outputs": [
    {
     "data": {
      "text/plain": [
       "1712681006.632"
      ]
     },
     "execution_count": 10,
     "metadata": {},
     "output_type": "execute_result"
    }
   ],
   "source": [
    "from datetime import datetime\n",
    "timestamp = 1712681006632.0/1000.0\n",
    "datetime_object = dt_object = datetime.fromtimestamp(timestamp)\n",
    "\n",
    "datetime_object.timestamp()"
   ]
  }
 ],
 "metadata": {
  "kernelspec": {
   "display_name": "Python 3",
   "language": "python",
   "name": "python3"
  },
  "language_info": {
   "codemirror_mode": {
    "name": "ipython",
    "version": 3
   },
   "file_extension": ".py",
   "mimetype": "text/x-python",
   "name": "python",
   "nbconvert_exporter": "python",
   "pygments_lexer": "ipython3",
   "version": "3.10.12"
  }
 },
 "nbformat": 4,
 "nbformat_minor": 2
}
