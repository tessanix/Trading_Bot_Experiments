{
 "cells": [
  {
   "cell_type": "code",
   "execution_count": 2,
   "metadata": {},
   "outputs": [
    {
     "name": "stderr",
     "output_type": "stream",
     "text": [
      "2024-04-02 20:56:56.495004: I external/local_xla/xla/stream_executor/cuda/cuda_executor.cc:984] could not open file to read NUMA node: /sys/bus/pci/devices/0000:07:00.0/numa_node\n",
      "Your kernel may have been built without NUMA support.\n",
      "2024-04-02 20:56:56.657510: I external/local_xla/xla/stream_executor/cuda/cuda_executor.cc:984] could not open file to read NUMA node: /sys/bus/pci/devices/0000:07:00.0/numa_node\n",
      "Your kernel may have been built without NUMA support.\n",
      "2024-04-02 20:56:56.657622: I external/local_xla/xla/stream_executor/cuda/cuda_executor.cc:984] could not open file to read NUMA node: /sys/bus/pci/devices/0000:07:00.0/numa_node\n",
      "Your kernel may have been built without NUMA support.\n"
     ]
    },
    {
     "data": {
      "text/plain": [
       "[PhysicalDevice(name='/physical_device:GPU:0', device_type='GPU')]"
      ]
     },
     "execution_count": 2,
     "metadata": {},
     "output_type": "execute_result"
    }
   ],
   "source": [
    "import tensorflow as tf\n",
    "tf.config.list_physical_devices('GPU')"
   ]
  },
  {
   "cell_type": "code",
   "execution_count": 11,
   "metadata": {},
   "outputs": [],
   "source": [
    "c = tf.constant([[1.0, 4., 3., 2.0], [3.0, 4., 4., 4.0]])"
   ]
  },
  {
   "cell_type": "code",
   "execution_count": 20,
   "metadata": {},
   "outputs": [
    {
     "name": "stdout",
     "output_type": "stream",
     "text": [
      "tf.Tensor(\n",
      "[[1. 4. 3. 2.]\n",
      " [3. 4. 4. 4.]], shape=(2, 4), dtype=float32)\n",
      "tf.Tensor(\n",
      "[[1.]\n",
      " [3.]], shape=(2, 1), dtype=float32)\n",
      "tf.Tensor(\n",
      "[[4. 3. 2.]\n",
      " [4. 4. 4.]], shape=(2, 3), dtype=float32)\n"
     ]
    }
   ],
   "source": [
    "print(c)\n",
    "batch_size = 2\n",
    "dims = 4\n",
    "begin = 1\n",
    "\n",
    "mu = tf.slice(c, [0, 0], [batch_size, 1])\n",
    "cov = tf.slice(c, [0, begin], [batch_size, dims-begin])\n",
    "\n",
    "print(mu)\n",
    "print(cov)"
   ]
  },
  {
   "cell_type": "code",
   "execution_count": 4,
   "metadata": {},
   "outputs": [],
   "source": [
    "import sys; sys.path.insert(1, '..')\n",
    "import utility"
   ]
  },
  {
   "cell_type": "code",
   "execution_count": 2,
   "metadata": {},
   "outputs": [
    {
     "name": "stdout",
     "output_type": "stream",
     "text": [
      "dfH4 index: RangeIndex(start=0, stop=15426, step=1)\n"
     ]
    }
   ],
   "source": [
    "\n",
    "import pandas as pd\n",
    "\n",
    "pricesDataFolder = \"../prices_data/\"\n",
    "dfH4 = pd.read_csv(\n",
    "    filepath_or_buffer=pricesDataFolder+\"H4/[SP500]_H4_2014-03-20__2024-03-20.csv\",\n",
    "    delimiter=\"\\t\"\n",
    ")\n",
    "\n",
    "dfH4 = dfH4.rename(\n",
    "    columns = {\n",
    "        '<OPEN>':'open', \n",
    "        '<HIGH>':'high', \n",
    "        '<LOW>':'low', \n",
    "        '<CLOSE>':'close'\n",
    "    }\n",
    ")\n",
    "\n",
    "print(f'dfH4 index: {dfH4.index}')"
   ]
  },
  {
   "cell_type": "code",
   "execution_count": 14,
   "metadata": {},
   "outputs": [
    {
     "name": "stdout",
     "output_type": "stream",
     "text": [
      "strat index: 3236\n",
      "==========================================\n",
      "        open   close     low    high\n",
      "3346  2044.8  2039.8  2038.9  2045.5\n",
      "3347  2039.6  2037.2  2036.1  2042.7\n",
      "3348  2037.1  2039.4  2036.5  2044.3\n",
      "3349  2039.5  2027.9  2025.3  2043.1\n",
      "3350  2028.1  2042.0  2027.9  2042.2\n",
      "3351  2042.1  2047.4  2040.7  2047.7\n",
      "3352  2047.3  2047.9  2045.1  2049.0\n",
      "3353  2048.0  2048.9  2045.4  2050.4\n",
      "3354  2048.6  2048.4  2044.1  2048.9\n",
      "3355  2047.9  2055.7  2046.2  2058.9\n",
      "3356  2055.3  2052.2  2048.4  2056.3\n",
      "==========================================\n",
      "open     2055.3\n",
      "close    2052.2\n",
      "low      2048.4\n",
      "high     2056.3\n",
      "Name: 3356, dtype: float64\n"
     ]
    }
   ],
   "source": [
    "from random import choice\n",
    "longTermMAPeriod = 200\n",
    "strategyN = 3\n",
    "startIndex = choice(dfH4.index[longTermMAPeriod+strategyN: -100])\n",
    "i = 120\n",
    "nbrCandles = 10\n",
    "observation = dfH4[[\"open\", \"close\",\"low\", \"high\"]].loc[startIndex-nbrCandles+i:startIndex+i]\n",
    "print(f\"strat index: {startIndex}\")\n",
    "print(\"==========================================\")\n",
    "print(observation)\n",
    "print(\"==========================================\")\n",
    "print(observation.loc[startIndex+i])\n"
   ]
  },
  {
   "cell_type": "code",
   "execution_count": 62,
   "metadata": {},
   "outputs": [
    {
     "name": "stdout",
     "output_type": "stream",
     "text": [
      "tf.Tensor([[1.89  3.222 2.611]], shape=(1, 3), dtype=float32)\n",
      "(1, 3)\n",
      "tf.Tensor([[1.89   -inf 2.611]], shape=(1, 3), dtype=float32)\n",
      "tf.Tensor([[0.3271728  0.         0.67282724]], shape=(1, 3), dtype=float32)\n",
      "sum of probabilities: 1.0\n"
     ]
    },
    {
     "data": {
      "text/plain": [
       "<tf.Tensor: shape=(1,), dtype=int32, numpy=array([2], dtype=int32)>"
      ]
     },
     "execution_count": 62,
     "metadata": {},
     "output_type": "execute_result"
    }
   ],
   "source": [
    "import tensorflow as tf\n",
    "import numpy as np\n",
    "from tensorflow.python.keras.activations import softmax\n",
    "import math\n",
    "import tensorflow_probability as tfp\n",
    "\n",
    "# a = tf.constant([1, 2, 2, 6])\n",
    "# b = tf.constant([[1, 4, 3, 2]])\n",
    "# c = tf.constant([[1], [4], [3], [2]])\n",
    "\n",
    "# print(a)\n",
    "# print(b)\n",
    "# print(c)\n",
    "\n",
    "\n",
    "# a = tf.expand_dims(a, axis=0)\n",
    "# print(a)\n",
    "\n",
    "# print(tf.concat([a,b], axis=1))\n",
    "input = tf.constant([[1.89, 3.222, 2.611]])\n",
    "mask = np.array([[True, False, True]])\n",
    "\n",
    "print(input)\n",
    "print(mask.shape)\n",
    "\n",
    "output = tf.where(mask, input, -math.inf)\n",
    "print(output)\n",
    "output = softmax(output)\n",
    "print(output)\n",
    "print(f\"sum of probabilities: {tf.reduce_sum(output)}\")\n",
    "dist = tfp.distributions.Categorical(probs=output)\n",
    "\n",
    "dist.sample()\n",
    "\n",
    "# def softmax_filtered(input, mask):\n",
    "#     return softmax(tf.where(mask, input, -math.inf))\n"
   ]
  },
  {
   "cell_type": "code",
   "execution_count": 63,
   "metadata": {},
   "outputs": [
    {
     "data": {
      "text/plain": [
       "6"
      ]
     },
     "execution_count": 63,
     "metadata": {},
     "output_type": "execute_result"
    }
   ],
   "source": [
    "l = [1,2,3]\n",
    "sum(l)"
   ]
  },
  {
   "cell_type": "code",
   "execution_count": 10,
   "metadata": {},
   "outputs": [
    {
     "data": {
      "text/plain": [
       "1712681006.632"
      ]
     },
     "execution_count": 10,
     "metadata": {},
     "output_type": "execute_result"
    }
   ],
   "source": [
    "from datetime import datetime, timedelta\n",
    "timestamp = 1712681006632.0/1000.0\n",
    "datetime_object = dt_object = datetime.fromtimestamp(timestamp)\n",
    "\n",
    "datetime_object.timestamp()"
   ]
  },
  {
   "cell_type": "code",
   "execution_count": 13,
   "metadata": {},
   "outputs": [
    {
     "name": "stdout",
     "output_type": "stream",
     "text": [
      "[[  5   6   9]\n",
      " [  1   2   5]\n",
      " [ -6  -3 -14]]\n",
      "9\n",
      "[  9   5 -14]\n",
      "-6\n"
     ]
    }
   ],
   "source": [
    "import numpy as np\n",
    "\n",
    "arr = np.array([[5,6,9],[1,2,5],[-6,-3,-14]])\n",
    "print(arr)\n",
    "print(arr[0,-1])\n",
    "print(arr[:,-1])\n",
    "# print(arr[:])\n",
    "print(arr[2,0])"
   ]
  },
  {
   "cell_type": "code",
   "execution_count": 2,
   "metadata": {},
   "outputs": [
    {
     "name": "stdout",
     "output_type": "stream",
     "text": [
      "1 2 3 4\n"
     ]
    }
   ],
   "source": [
    "l = [1,2,3,4]\n",
    "print(*l)"
   ]
  },
  {
   "cell_type": "code",
   "execution_count": 1,
   "metadata": {},
   "outputs": [
    {
     "name": "stderr",
     "output_type": "stream",
     "text": [
      "2024-04-23 21:11:59.283705: I tensorflow/core/platform/cpu_feature_guard.cc:210] This TensorFlow binary is optimized to use available CPU instructions in performance-critical operations.\n",
      "To enable the following instructions: AVX2 FMA, in other operations, rebuild TensorFlow with the appropriate compiler flags.\n",
      "2024-04-23 21:11:59.991588: W tensorflow/compiler/tf2tensorrt/utils/py_utils.cc:38] TF-TRT Warning: Could not find TensorRT\n",
      "2024-04-23 21:12:00.796199: I external/local_xla/xla/stream_executor/cuda/cuda_executor.cc:984] could not open file to read NUMA node: /sys/bus/pci/devices/0000:07:00.0/numa_node\n",
      "Your kernel may have been built without NUMA support.\n",
      "2024-04-23 21:12:00.836820: I external/local_xla/xla/stream_executor/cuda/cuda_executor.cc:984] could not open file to read NUMA node: /sys/bus/pci/devices/0000:07:00.0/numa_node\n",
      "Your kernel may have been built without NUMA support.\n",
      "2024-04-23 21:12:00.836870: I external/local_xla/xla/stream_executor/cuda/cuda_executor.cc:984] could not open file to read NUMA node: /sys/bus/pci/devices/0000:07:00.0/numa_node\n",
      "Your kernel may have been built without NUMA support.\n",
      "2024-04-23 21:12:00.839860: I external/local_xla/xla/stream_executor/cuda/cuda_executor.cc:984] could not open file to read NUMA node: /sys/bus/pci/devices/0000:07:00.0/numa_node\n",
      "Your kernel may have been built without NUMA support.\n",
      "2024-04-23 21:12:00.839904: I external/local_xla/xla/stream_executor/cuda/cuda_executor.cc:984] could not open file to read NUMA node: /sys/bus/pci/devices/0000:07:00.0/numa_node\n",
      "Your kernel may have been built without NUMA support.\n",
      "2024-04-23 21:12:00.839929: I external/local_xla/xla/stream_executor/cuda/cuda_executor.cc:984] could not open file to read NUMA node: /sys/bus/pci/devices/0000:07:00.0/numa_node\n",
      "Your kernel may have been built without NUMA support.\n",
      "2024-04-23 21:12:01.009586: I external/local_xla/xla/stream_executor/cuda/cuda_executor.cc:984] could not open file to read NUMA node: /sys/bus/pci/devices/0000:07:00.0/numa_node\n",
      "Your kernel may have been built without NUMA support.\n",
      "2024-04-23 21:12:01.009647: I external/local_xla/xla/stream_executor/cuda/cuda_executor.cc:984] could not open file to read NUMA node: /sys/bus/pci/devices/0000:07:00.0/numa_node\n",
      "Your kernel may have been built without NUMA support.\n",
      "2024-04-23 21:12:01.009655: I tensorflow/core/common_runtime/gpu/gpu_device.cc:2019] Could not identify NUMA node of platform GPU id 0, defaulting to 0.  Your kernel may not have been built with NUMA support.\n",
      "2024-04-23 21:12:01.009691: I external/local_xla/xla/stream_executor/cuda/cuda_executor.cc:984] could not open file to read NUMA node: /sys/bus/pci/devices/0000:07:00.0/numa_node\n",
      "Your kernel may have been built without NUMA support.\n",
      "2024-04-23 21:12:01.009716: I tensorflow/core/common_runtime/gpu/gpu_device.cc:1928] Created device /job:localhost/replica:0/task:0/device:GPU:0 with 5558 MB memory:  -> device: 0, name: NVIDIA GeForce RTX 3070 Ti, pci bus id: 0000:07:00.0, compute capability: 8.6\n"
     ]
    },
    {
     "name": "stdout",
     "output_type": "stream",
     "text": [
      "lentgh 4\n",
      "lentgh 100\n",
      "depths (1, 2)\n",
      "positions (100, 1)\n",
      "pos_encoding (100, 4)\n"
     ]
    }
   ],
   "source": [
    "import sys; sys.path.insert(1, '..')\n",
    "from reinforcement_learning.trading_agent.actor_critic.encoderTransformerNetwork import Encoder\n",
    "\n",
    "params={ 'sequence_length':100, 'h':4, 'd_k':1, 'd_v':1, 'd_model':4, 'd_ff':128, 'n':6}\n",
    "\n",
    "encoder = Encoder(**params)"
   ]
  },
  {
   "cell_type": "code",
   "execution_count": 2,
   "metadata": {},
   "outputs": [
    {
     "name": "stdout",
     "output_type": "stream",
     "text": [
      "(1, 100, 4)\n"
     ]
    }
   ],
   "source": [
    "import numpy as np\n",
    "\n",
    "_input = np.random.rand(1,100,4)\n",
    "print(_input.shape)\n"
   ]
  },
  {
   "cell_type": "code",
   "execution_count": 3,
   "metadata": {},
   "outputs": [
    {
     "name": "stdout",
     "output_type": "stream",
     "text": [
      "x shape: [  1 100   4]\n",
      "tf.Tensor(\n",
      "[[[-1.4179502   1.4047905   0.08263968 -0.06948001]\n",
      "  [-0.8733837  -0.44022352  1.6999629  -0.3863557 ]\n",
      "  [ 0.04533879 -0.877519   -0.78344315  1.6156235 ]\n",
      "  [ 0.06240699 -1.0023685  -0.6582653   1.5982268 ]\n",
      "  [-0.9737877   1.6721687  -0.4107124  -0.2876687 ]\n",
      "  [-1.1981156   1.4712098   0.28636467 -0.55945903]\n",
      "  [-0.9749132   0.74448025  1.2247218  -0.99428886]\n",
      "  [-1.4945066  -0.29851222  0.71417034  1.0788485 ]\n",
      "  [-0.8645055  -0.33989722  1.6992936  -0.49489108]\n",
      "  [ 0.42328405 -0.59016436 -1.2307316   1.3976119 ]\n",
      "  [-1.2577038   1.0009317  -0.70195675  0.9587289 ]\n",
      "  [-1.2962      1.4516801   0.23499231 -0.39047226]\n",
      "  [-1.5880182   1.1776848   0.2424987   0.16783464]\n",
      "  [ 0.5041312  -1.4309167   1.2590396  -0.33225414]\n",
      "  [ 0.83231753 -0.69460225 -1.2544358   1.1167204 ]\n",
      "  [ 0.17532976  1.4918977  -1.2512976  -0.41592985]\n",
      "  [-0.04328723  1.6373721  -0.65181965 -0.94226533]\n",
      "  [-0.9796258   1.6030552   0.05667666 -0.680106  ]\n",
      "  [-1.186846    1.5755085  -0.07325479 -0.31540766]\n",
      "  [-0.78812027 -0.9678582   1.547892    0.20808646]\n",
      "  [-0.8521652  -0.1567493   1.6739028  -0.66498834]\n",
      "  [ 0.6844497   0.95902586 -1.6141644  -0.02931121]\n",
      "  [-1.1120709   1.5866281  -0.4914285   0.0168712 ]\n",
      "  [-1.2164068   1.5344604   0.0761524  -0.39420593]\n",
      "  [-1.563151    0.5578307   1.1088067  -0.10348653]\n",
      "  [-1.5578076  -0.04594568  0.42656937  1.177184  ]\n",
      "  [-0.2830736  -0.89216036  1.6898398  -0.5146059 ]\n",
      "  [ 0.3743732   0.254106   -1.6544402   1.0259609 ]\n",
      "  [ 0.02149858  1.4387683  -1.3851283  -0.07513864]\n",
      "  [-0.86237425  1.6579257  -0.7034824  -0.09206903]\n",
      "  [-0.7848716   1.5922562   0.10507679 -0.9124614 ]\n",
      "  [-1.5902091   0.0443744   1.1406788   0.405156  ]\n",
      "  [-0.8747309   1.5881131   0.11937065 -0.8327529 ]\n",
      "  [ 0.22969563  1.5370613  -0.78435975 -0.9823973 ]\n",
      "  [ 0.36119673  0.34396836 -1.6748918   0.96972674]\n",
      "  [-0.84446716  1.6865675  -0.21686614 -0.62523425]\n",
      "  [-0.9336455   1.6846392  -0.42094576 -0.33004788]\n",
      "  [-1.5971241   0.7785213  -0.0927147   0.9113176 ]\n",
      "  [-0.04295319 -1.0064439   1.6272234  -0.5778263 ]\n",
      "  [-1.0659581  -0.27610272  1.6411957  -0.29913485]\n",
      "  [-0.3421443   1.3756963  -1.368503    0.33495098]\n",
      "  [-0.49012166  1.691709   -0.89373153 -0.3078558 ]\n",
      "  [-1.1179143   1.6188245  -0.25650427 -0.24440587]\n",
      "  [-1.2227      1.4900237   0.21577606 -0.48309982]\n",
      "  [-1.4171491   1.2989295   0.4415182  -0.3232986 ]\n",
      "  [-0.56318593 -1.3166715   1.2395747   0.64028287]\n",
      "  [ 0.6494731   1.2579266  -0.66064775 -1.2467519 ]\n",
      "  [-0.40840662  1.5526599  -1.1897131   0.04545971]\n",
      "  [-0.92289793  0.71605897 -1.0387866   1.2456256 ]\n",
      "  [-1.2924979   1.5138897  -0.04427186 -0.17712003]\n",
      "  [-1.155189    1.3250504   0.5819971  -0.75185835]\n",
      "  [-1.5854632   0.36422685  1.1597353   0.06150107]\n",
      "  [ 0.07350905 -0.20673324  1.46957    -1.3363458 ]\n",
      "  [-0.55889696  1.1017817  -1.3486608   0.80577606]\n",
      "  [-0.9318941   1.4208229  -0.94755703  0.4586283 ]\n",
      "  [-1.0542835   1.2893803   0.6545358  -0.8896326 ]\n",
      "  [-1.2899653   1.328909    0.5114862  -0.55042994]\n",
      "  [-1.6038103   1.0362885  -0.02349304  0.59101486]\n",
      "  [-1.3961061   1.0441958  -0.4927965   0.844707  ]\n",
      "  [-0.6484519   1.5825979  -1.0300562   0.09591024]\n",
      "  [-0.9474765   1.533314   -0.82920593  0.2433685 ]\n",
      "  [-1.2768185   1.5234629  -0.03935128 -0.20729314]\n",
      "  [-1.2277002   1.4850485   0.22443148 -0.48177966]\n",
      "  [-1.1858468  -0.6616205   1.3960912   0.45137584]\n",
      "  [-0.3044641   1.3310355   0.38171452 -1.408286  ]\n",
      "  [ 0.8100151   0.5113944  -1.7104594   0.3890499 ]\n",
      "  [-0.9808639   1.6443433  -0.09780553 -0.56567377]\n",
      "  [-1.6498914   0.37209678  0.2392812   1.0385135 ]\n",
      "  [-0.9619727   0.7934407   1.1851883  -1.0166562 ]\n",
      "  [-1.4881107   1.1239854   0.6567357  -0.2926106 ]\n",
      "  [-1.6812919   0.39093098  0.94822204  0.34213874]\n",
      "  [-0.41469193 -0.91097176 -0.36575353  1.6914172 ]\n",
      "  [-0.8647792   1.4442872  -0.99458575  0.4150777 ]\n",
      "  [-0.85935223  1.6463085  -0.04933546 -0.73762083]\n",
      "  [-1.0690985   1.6393508  -0.32275206 -0.24750021]\n",
      "  [-1.1567119   1.4902428   0.26941574 -0.6029465 ]\n",
      "  [-1.5684282   0.8108692  -0.165074    0.92263293]\n",
      "  [ 0.57110643  0.33983016 -1.7080575   0.797121  ]\n",
      "  [ 1.1951399  -1.567354    0.33258402  0.03963003]\n",
      "  [-1.3033317   1.4991412  -0.22163562  0.02582613]\n",
      "  [-1.3347049   1.4837862  -0.04621617 -0.10286528]\n",
      "  [-1.3734586   1.2867076   0.5171648  -0.43041387]\n",
      "  [-0.8572049   0.9535568   1.0344825  -1.1308343 ]\n",
      "  [-0.09257528  1.2098637   0.41510713 -1.5323954 ]\n",
      "  [ 0.6385444  -0.5389822  -1.3328083   1.2332461 ]\n",
      "  [-1.1743504   1.5895387  -0.25209582 -0.16309246]\n",
      "  [-1.1564162   1.5099722  -0.57429254  0.22073656]\n",
      "  [-0.93634903  1.5246528   0.2627752  -0.8510791 ]\n",
      "  [-1.042029    1.2540396   0.70418954 -0.9162003 ]\n",
      "  [-1.05238     0.04102524  1.5951772  -0.5838225 ]\n",
      "  [ 0.04527352  1.6071413  -0.6755525  -0.97686225]\n",
      "  [-0.2568746   1.5466633  -1.2386302  -0.05115848]\n",
      "  [-0.34179807  1.6135597  -1.1186651  -0.15309665]\n",
      "  [-0.8308395   1.4555992   0.3911788  -1.0159385 ]\n",
      "  [-1.0649157   0.13765113  1.5617037  -0.6344392 ]\n",
      "  [-1.2022239   1.0043681   0.9707257  -0.7728699 ]\n",
      "  [ 0.7251246  -0.2561375   1.0484213  -1.5174084 ]\n",
      "  [-0.24103343  1.6907723  -0.6066288  -0.8431101 ]\n",
      "  [-0.91640735  1.6901603  -0.38956264 -0.38419023]\n",
      "  [-1.6683441   0.98347723  0.26894158  0.4159254 ]]], shape=(1, 100, 4), dtype=float32)\n"
     ]
    }
   ],
   "source": [
    "\n",
    "_output = encoder(_input)\n",
    "print(_output)"
   ]
  },
  {
   "cell_type": "code",
   "execution_count": 2,
   "metadata": {},
   "outputs": [
    {
     "name": "stderr",
     "output_type": "stream",
     "text": [
      "2024-04-24 18:25:56.232814: I tensorflow/core/platform/cpu_feature_guard.cc:210] This TensorFlow binary is optimized to use available CPU instructions in performance-critical operations.\n",
      "To enable the following instructions: AVX2 FMA, in other operations, rebuild TensorFlow with the appropriate compiler flags.\n",
      "2024-04-24 18:25:56.924451: W tensorflow/compiler/tf2tensorrt/utils/py_utils.cc:38] TF-TRT Warning: Could not find TensorRT\n",
      "2024-04-24 18:25:57.549181: I external/local_xla/xla/stream_executor/cuda/cuda_executor.cc:984] could not open file to read NUMA node: /sys/bus/pci/devices/0000:07:00.0/numa_node\n",
      "Your kernel may have been built without NUMA support.\n",
      "2024-04-24 18:25:57.574803: I external/local_xla/xla/stream_executor/cuda/cuda_executor.cc:984] could not open file to read NUMA node: /sys/bus/pci/devices/0000:07:00.0/numa_node\n",
      "Your kernel may have been built without NUMA support.\n",
      "2024-04-24 18:25:57.574853: I external/local_xla/xla/stream_executor/cuda/cuda_executor.cc:984] could not open file to read NUMA node: /sys/bus/pci/devices/0000:07:00.0/numa_node\n",
      "Your kernel may have been built without NUMA support.\n",
      "2024-04-24 18:25:57.577626: I external/local_xla/xla/stream_executor/cuda/cuda_executor.cc:984] could not open file to read NUMA node: /sys/bus/pci/devices/0000:07:00.0/numa_node\n",
      "Your kernel may have been built without NUMA support.\n",
      "2024-04-24 18:25:57.577680: I external/local_xla/xla/stream_executor/cuda/cuda_executor.cc:984] could not open file to read NUMA node: /sys/bus/pci/devices/0000:07:00.0/numa_node\n",
      "Your kernel may have been built without NUMA support.\n",
      "2024-04-24 18:25:57.577705: I external/local_xla/xla/stream_executor/cuda/cuda_executor.cc:984] could not open file to read NUMA node: /sys/bus/pci/devices/0000:07:00.0/numa_node\n",
      "Your kernel may have been built without NUMA support.\n",
      "2024-04-24 18:25:57.709216: I external/local_xla/xla/stream_executor/cuda/cuda_executor.cc:984] could not open file to read NUMA node: /sys/bus/pci/devices/0000:07:00.0/numa_node\n",
      "Your kernel may have been built without NUMA support.\n",
      "2024-04-24 18:25:57.709275: I external/local_xla/xla/stream_executor/cuda/cuda_executor.cc:984] could not open file to read NUMA node: /sys/bus/pci/devices/0000:07:00.0/numa_node\n",
      "Your kernel may have been built without NUMA support.\n",
      "2024-04-24 18:25:57.709283: I tensorflow/core/common_runtime/gpu/gpu_device.cc:2019] Could not identify NUMA node of platform GPU id 0, defaulting to 0.  Your kernel may not have been built with NUMA support.\n",
      "2024-04-24 18:25:57.709319: I external/local_xla/xla/stream_executor/cuda/cuda_executor.cc:984] could not open file to read NUMA node: /sys/bus/pci/devices/0000:07:00.0/numa_node\n",
      "Your kernel may have been built without NUMA support.\n",
      "2024-04-24 18:25:57.709346: I tensorflow/core/common_runtime/gpu/gpu_device.cc:1928] Created device /job:localhost/replica:0/task:0/device:GPU:0 with 5558 MB memory:  -> device: 0, name: NVIDIA GeForce RTX 3070 Ti, pci bus id: 0000:07:00.0, compute capability: 8.6\n"
     ]
    },
    {
     "data": {
      "text/plain": [
       "<tf.Tensor: shape=(), dtype=float32, numpy=0.5744425>"
      ]
     },
     "execution_count": 2,
     "metadata": {},
     "output_type": "execute_result"
    }
   ],
   "source": [
    "import tensorflow as tf\n",
    "tf.math.sigmoid(0.3)"
   ]
  },
  {
   "cell_type": "code",
   "execution_count": null,
   "metadata": {},
   "outputs": [],
   "source": []
  }
 ],
 "metadata": {
  "kernelspec": {
   "display_name": "Python 3",
   "language": "python",
   "name": "python3"
  },
  "language_info": {
   "codemirror_mode": {
    "name": "ipython",
    "version": 3
   },
   "file_extension": ".py",
   "mimetype": "text/x-python",
   "name": "python",
   "nbconvert_exporter": "python",
   "pygments_lexer": "ipython3",
   "version": "3.10.12"
  }
 },
 "nbformat": 4,
 "nbformat_minor": 2
}
