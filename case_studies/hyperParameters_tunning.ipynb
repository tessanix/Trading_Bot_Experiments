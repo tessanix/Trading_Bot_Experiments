{
 "cells": [
  {
   "cell_type": "code",
   "execution_count": 1,
   "metadata": {},
   "outputs": [],
   "source": [
    "import pandas as pd\n",
    "\n",
    "pricesDataFolder = \"../prices_data/\"\n",
    "dfDaily = pd.read_csv(\n",
    "    filepath_or_buffer=pricesDataFolder+\"D1/[SP500]_Daily_2014-03-20__2024-03-20.csv\",\n",
    "    delimiter=\"\\t\"\n",
    ")\n",
    "dfDaily = dfDaily.rename(\n",
    "    columns = {\n",
    "        '<DATE>':'date', \n",
    "        '<TIME>':'time', \n",
    "        '<OPEN>':'open', \n",
    "        '<HIGH>':'high', \n",
    "        '<LOW>':'low', \n",
    "        '<CLOSE>':'close'\n",
    "    }\n",
    ")\n",
    "dfDaily = dfDaily.drop(['<TICKVOL>', '<VOL>', '<SPREAD>'], axis=1)"
   ]
  },
  {
   "cell_type": "code",
   "execution_count": 2,
   "metadata": {},
   "outputs": [],
   "source": [
    "import pandas as pd\n",
    "import sys; sys.path.insert(1, '..')\n",
    "import utility\n",
    "pricesDataFolder = \"../prices_data/\"\n",
    "dfH4 = pd.read_csv(\n",
    "    filepath_or_buffer=pricesDataFolder+\"H4/[SP500]_H4_2014-03-20__2024-03-20.csv\",\n",
    "    delimiter=\"\\t\"\n",
    ")\n",
    "\n",
    "dfH4 = dfH4.rename(\n",
    "    columns = {\n",
    "        '<OPEN>':'open', \n",
    "        '<HIGH>':'high', \n",
    "        '<LOW>':'low', \n",
    "        '<CLOSE>':'close'\n",
    "    }\n",
    ")\n",
    "\n",
    "dfH4['datetime'] = pd.to_datetime(dfH4['<DATE>'] + ' ' + dfH4['<TIME>'])\n",
    "dfH4 = dfH4.drop(['<TICKVOL>', '<VOL>', '<SPREAD>', '<DATE>', '<TIME>'], axis=1)\n",
    "dfH4 = utility.heikinashi(dfH4) #add heikin ashi candles\n",
    "dfH4 = utility.addHACandleColor(dfH4)"
   ]
  },
  {
   "cell_type": "code",
   "execution_count": 6,
   "metadata": {},
   "outputs": [
    {
     "name": "stdout",
     "output_type": "stream",
     "text": [
      "False\n",
      "True\n"
     ]
    }
   ],
   "source": [
    "# from dataclasses import dataclass\n",
    "# @dataclass\n",
    "# class test:\n",
    "#     a:bool\n",
    "#     b:float\n",
    "#     c:int\n",
    "\n",
    "# test1 = test(True, 1.2, 4)\n",
    "# test2 = test(False, 56.8, 2)\n",
    "# test3 = test(True, 1.2, 4)\n",
    "\n",
    "# print(test1 == test2)\n",
    "# print(test1 == test3)"
   ]
  },
  {
   "cell_type": "code",
   "execution_count": 4,
   "metadata": {},
   "outputs": [],
   "source": [
    "from dataclasses import dataclass\n",
    "\n",
    "@dataclass\n",
    "class HyperParamaters:\n",
    "    useFilter:bool\n",
    "    filterPercent:float\n",
    "    clusterBW:int\n",
    "    useSR:bool\n",
    "    useUpdateSl:bool\n",
    "    pivotN1N2:tuple[int,int]\n",
    "    shortTermMA:int\n",
    "    longTermMA:int\n",
    "    uselongTermMA:bool\n",
    " "
   ]
  },
  {
   "cell_type": "code",
   "execution_count": 5,
   "metadata": {},
   "outputs": [],
   "source": [
    "from strategies.Strategy import Strategy\n",
    "from key_levels_finder.key_levels_algorithm import getKeyLevels\n",
    "import strategy_tester\n",
    "\n",
    "class Scorer:\n",
    "    def __init__(self, strategy:Strategy, dfDaily: pd.DataFrame, dfH4: pd.DataFrame):\n",
    "        self.strategy = strategy\n",
    "        self.dfDaily = dfDaily\n",
    "        self.dfH4 = dfH4\n",
    "        self.keyLevelsParametersAlreadyTested: dict[tuple[bool, float, int], list[float]] = {}\n",
    "        self.hyperparametersByScore: dict[float, HyperParamaters] = {}\n",
    "\n",
    "    def giveStrategyScore(self, useFilter, filterPercent, clusterBW, useSR, useUpdateSl, pivotN1N2, shortTermMA, longTermMA, uselongTermMA):\n",
    "            \n",
    "        if uselongTermMA: self.dfH4[\"longTermMA\"] = self.dfH4[\"close\"].rolling(window=longTermMA).mean() # add moving average long\n",
    "        self.dfH4[\"shortTermMA\"] = self.dfH4[\"close\"].rolling(window=shortTermMA).mean() # add moving average short\n",
    "\n",
    "        keyLevels: list[float]\n",
    "        keyLevelsParameters = (useFilter, filterPercent, clusterBW)\n",
    "        if keyLevelsParameters in self.keyLevelsParametersAlreadyTested:\n",
    "            keyLevels = self.keyLevelsParametersAlreadyTested[keyLevelsParameters]\n",
    "        else:\n",
    "            keyLevels = getKeyLevels(self.dfDaily, pivotN1N2=pivotN1N2, useFilter=False, filterPercent=3, clusterBW=30)\n",
    "            self.keyLevelsParametersAlreadyTested[keyLevelsParameters] = keyLevels\n",
    "\n",
    "        self.strategy.setParams(keyLevels=keyLevels, useSR=useSR, useUpdateSl=useUpdateSl, longTermMAPeriod=longTermMA, uselongTermMA=uselongTermMA)\n",
    "        trades = strategy_tester.strategyLoop(self.dfH4, self.strategy, longTermMA)    \n",
    "        profitEachMonth = trades.groupby(pd.Grouper(key='exit_date', axis=0, freq='ME'))[\"profit\"].sum()\n",
    "        hyperParameters = HyperParamaters(useFilter, filterPercent, clusterBW, useSR, useUpdateSl, pivotN1N2, shortTermMA, longTermMA, uselongTermMA)\n",
    "        \n",
    "        capitalAfterTradeEachMonth = trades.groupby(pd.Grouper(key='exit_date', axis=0, freq='ME'))[\"capital_after_trade\"].sum()\n",
    "        capitalBeforeTradeEachMonths = capitalAfterTradeEachMonth - profitEachMonth\n",
    "        \n",
    "        percentEachMonth = ((capitalAfterTradeEachMonth - capitalBeforeTradeEachMonths)/capitalBeforeTradeEachMonths)*100\n",
    "\n",
    "        self.hyperparametersByScore[percentEachMonth.mean()] = hyperParameters"
   ]
  },
  {
   "cell_type": "code",
   "execution_count": 6,
   "metadata": {},
   "outputs": [
    {
     "name": "stdout",
     "output_type": "stream",
     "text": [
      "{0.5769754326883941: HyperParamaters(useFilter=True, filterPercent=7.0, clusterBW=130, useSR=False, useUpdateSl=False, pivotN1N2=(20, 20), shortTermMA=30, longTermMA=200, uselongTermMA=False), 0.4890195346879243: HyperParamaters(useFilter=True, filterPercent=7.0, clusterBW=130, useSR=False, useUpdateSl=False, pivotN1N2=(20, 20), shortTermMA=50, longTermMA=200, uselongTermMA=False), 0.4902056189009038: HyperParamaters(useFilter=True, filterPercent=7.0, clusterBW=130, useSR=False, useUpdateSl=False, pivotN1N2=(20, 20), shortTermMA=60, longTermMA=200, uselongTermMA=False), 0.40783554874610706: HyperParamaters(useFilter=True, filterPercent=7.0, clusterBW=130, useSR=False, useUpdateSl=False, pivotN1N2=(20, 20), shortTermMA=80, longTermMA=200, uselongTermMA=False), 0.38733430776094424: HyperParamaters(useFilter=True, filterPercent=7.0, clusterBW=130, useSR=False, useUpdateSl=False, pivotN1N2=(20, 20), shortTermMA=100, longTermMA=200, uselongTermMA=False), 0.4335325050326754: HyperParamaters(useFilter=True, filterPercent=7.0, clusterBW=130, useSR=False, useUpdateSl=True, pivotN1N2=(20, 20), shortTermMA=30, longTermMA=200, uselongTermMA=False), 0.33632765787105756: HyperParamaters(useFilter=True, filterPercent=7.0, clusterBW=130, useSR=False, useUpdateSl=True, pivotN1N2=(20, 20), shortTermMA=50, longTermMA=200, uselongTermMA=False), 0.362723017495203: HyperParamaters(useFilter=True, filterPercent=7.0, clusterBW=130, useSR=False, useUpdateSl=True, pivotN1N2=(20, 20), shortTermMA=60, longTermMA=200, uselongTermMA=False), 0.21540297704118203: HyperParamaters(useFilter=True, filterPercent=7.0, clusterBW=130, useSR=False, useUpdateSl=True, pivotN1N2=(20, 20), shortTermMA=80, longTermMA=200, uselongTermMA=False), 0.2924275625589604: HyperParamaters(useFilter=True, filterPercent=7.0, clusterBW=130, useSR=False, useUpdateSl=True, pivotN1N2=(20, 20), shortTermMA=100, longTermMA=200, uselongTermMA=False), 0.5075222018856193: HyperParamaters(useFilter=True, filterPercent=7.0, clusterBW=130, useSR=True, useUpdateSl=False, pivotN1N2=(20, 20), shortTermMA=30, longTermMA=200, uselongTermMA=False), 0.4988352407890395: HyperParamaters(useFilter=True, filterPercent=7.0, clusterBW=130, useSR=True, useUpdateSl=False, pivotN1N2=(20, 20), shortTermMA=50, longTermMA=200, uselongTermMA=False), 0.39266092900935523: HyperParamaters(useFilter=True, filterPercent=7.0, clusterBW=130, useSR=True, useUpdateSl=False, pivotN1N2=(20, 20), shortTermMA=60, longTermMA=200, uselongTermMA=False), 0.3503938463178055: HyperParamaters(useFilter=True, filterPercent=7.0, clusterBW=130, useSR=True, useUpdateSl=False, pivotN1N2=(20, 20), shortTermMA=80, longTermMA=200, uselongTermMA=False), 0.4537047805594508: HyperParamaters(useFilter=True, filterPercent=7.0, clusterBW=130, useSR=True, useUpdateSl=False, pivotN1N2=(20, 20), shortTermMA=100, longTermMA=200, uselongTermMA=False), 0.5800249243621987: HyperParamaters(useFilter=True, filterPercent=7.0, clusterBW=130, useSR=True, useUpdateSl=True, pivotN1N2=(20, 20), shortTermMA=30, longTermMA=200, uselongTermMA=False), 0.4374200817302261: HyperParamaters(useFilter=True, filterPercent=7.0, clusterBW=130, useSR=True, useUpdateSl=True, pivotN1N2=(20, 20), shortTermMA=50, longTermMA=200, uselongTermMA=False), 0.36323463425766056: HyperParamaters(useFilter=True, filterPercent=7.0, clusterBW=130, useSR=True, useUpdateSl=True, pivotN1N2=(20, 20), shortTermMA=60, longTermMA=200, uselongTermMA=False), 0.37801179748863206: HyperParamaters(useFilter=True, filterPercent=7.0, clusterBW=130, useSR=True, useUpdateSl=True, pivotN1N2=(20, 20), shortTermMA=80, longTermMA=200, uselongTermMA=False), 0.3622429677556697: HyperParamaters(useFilter=True, filterPercent=7.0, clusterBW=130, useSR=True, useUpdateSl=True, pivotN1N2=(20, 20), shortTermMA=100, longTermMA=200, uselongTermMA=False)}\n"
     ]
    }
   ],
   "source": [
    "from strategies.Heikin_Ashi_Moving_Average_Strategy import HeikinAshiMovingAverage\n",
    "\n",
    "# hyperparameters\n",
    "useFilterParams = useSRParams = useUpdateSlParams = [False, True]\n",
    "filterPercentParams = [4.0, 5.0, 6.0, 7.0]\n",
    "clusterBWParams = [80, 90, 100, 110, 120, 130]\n",
    "pivotN1N2Params = [(10,10), (10,20), (20,10), (20,20)]\n",
    "shortTermMAParams = [30, 50, 60, 80, 100]\n",
    "\n",
    "MyScorer = Scorer(strategy=HeikinAshiMovingAverage(), dfDaily=dfDaily, dfH4=dfH4)    \n",
    "\n",
    "for useFilter in useFilterParams:\n",
    "    for filterPercent in filterPercentParams:\n",
    "        for clusterBW in clusterBWParams:\n",
    "            for useSR in useSRParams:\n",
    "                for useUpdateSl in useUpdateSlParams:\n",
    "                    for pivotN1N2 in pivotN1N2Params:\n",
    "                        for shortTermMA in shortTermMAParams:\n",
    "                            MyScorer.giveStrategyScore(useFilter, filterPercent, clusterBW, useSR, useUpdateSl, pivotN1N2, shortTermMA, longTermMA=200, uselongTermMA=False)\n",
    "\n",
    "print(MyScorer.hyperparametersByScore)\n"
   ]
  },
  {
   "cell_type": "code",
   "execution_count": 8,
   "metadata": {},
   "outputs": [
    {
     "data": {
      "text/plain": [
       "[0.21540297704118203,\n",
       " 0.2924275625589604,\n",
       " 0.33632765787105756,\n",
       " 0.3503938463178055,\n",
       " 0.3622429677556697,\n",
       " 0.362723017495203,\n",
       " 0.36323463425766056,\n",
       " 0.37801179748863206,\n",
       " 0.38733430776094424,\n",
       " 0.39266092900935523,\n",
       " 0.40783554874610706,\n",
       " 0.4335325050326754,\n",
       " 0.4374200817302261,\n",
       " 0.4537047805594508,\n",
       " 0.4890195346879243,\n",
       " 0.4902056189009038,\n",
       " 0.4988352407890395,\n",
       " 0.5075222018856193,\n",
       " 0.5769754326883941,\n",
       " 0.5800249243621987]"
      ]
     },
     "execution_count": 8,
     "metadata": {},
     "output_type": "execute_result"
    }
   ],
   "source": [
    "\n",
    "myKeys = list(MyScorer.hyperparametersByScore.keys())\n",
    "myKeys.sort()\n",
    "myKeys"
   ]
  },
  {
   "cell_type": "code",
   "execution_count": 9,
   "metadata": {},
   "outputs": [
    {
     "name": "stdout",
     "output_type": "stream",
     "text": [
      "HyperParamaters(useFilter=True, filterPercent=7.0, clusterBW=130, useSR=False, useUpdateSl=True, pivotN1N2=(20, 20), shortTermMA=80, longTermMA=200, uselongTermMA=False)\n",
      "HyperParamaters(useFilter=True, filterPercent=7.0, clusterBW=130, useSR=False, useUpdateSl=True, pivotN1N2=(20, 20), shortTermMA=100, longTermMA=200, uselongTermMA=False)\n",
      "HyperParamaters(useFilter=True, filterPercent=7.0, clusterBW=130, useSR=False, useUpdateSl=True, pivotN1N2=(20, 20), shortTermMA=50, longTermMA=200, uselongTermMA=False)\n",
      "HyperParamaters(useFilter=True, filterPercent=7.0, clusterBW=130, useSR=True, useUpdateSl=False, pivotN1N2=(20, 20), shortTermMA=80, longTermMA=200, uselongTermMA=False)\n",
      "HyperParamaters(useFilter=True, filterPercent=7.0, clusterBW=130, useSR=True, useUpdateSl=True, pivotN1N2=(20, 20), shortTermMA=100, longTermMA=200, uselongTermMA=False)\n",
      "HyperParamaters(useFilter=True, filterPercent=7.0, clusterBW=130, useSR=False, useUpdateSl=True, pivotN1N2=(20, 20), shortTermMA=60, longTermMA=200, uselongTermMA=False)\n",
      "HyperParamaters(useFilter=True, filterPercent=7.0, clusterBW=130, useSR=True, useUpdateSl=True, pivotN1N2=(20, 20), shortTermMA=60, longTermMA=200, uselongTermMA=False)\n",
      "HyperParamaters(useFilter=True, filterPercent=7.0, clusterBW=130, useSR=True, useUpdateSl=True, pivotN1N2=(20, 20), shortTermMA=80, longTermMA=200, uselongTermMA=False)\n",
      "HyperParamaters(useFilter=True, filterPercent=7.0, clusterBW=130, useSR=False, useUpdateSl=False, pivotN1N2=(20, 20), shortTermMA=100, longTermMA=200, uselongTermMA=False)\n",
      "HyperParamaters(useFilter=True, filterPercent=7.0, clusterBW=130, useSR=True, useUpdateSl=False, pivotN1N2=(20, 20), shortTermMA=60, longTermMA=200, uselongTermMA=False)\n",
      "HyperParamaters(useFilter=True, filterPercent=7.0, clusterBW=130, useSR=False, useUpdateSl=False, pivotN1N2=(20, 20), shortTermMA=80, longTermMA=200, uselongTermMA=False)\n",
      "HyperParamaters(useFilter=True, filterPercent=7.0, clusterBW=130, useSR=False, useUpdateSl=True, pivotN1N2=(20, 20), shortTermMA=30, longTermMA=200, uselongTermMA=False)\n",
      "HyperParamaters(useFilter=True, filterPercent=7.0, clusterBW=130, useSR=True, useUpdateSl=True, pivotN1N2=(20, 20), shortTermMA=50, longTermMA=200, uselongTermMA=False)\n",
      "HyperParamaters(useFilter=True, filterPercent=7.0, clusterBW=130, useSR=True, useUpdateSl=False, pivotN1N2=(20, 20), shortTermMA=100, longTermMA=200, uselongTermMA=False)\n",
      "HyperParamaters(useFilter=True, filterPercent=7.0, clusterBW=130, useSR=False, useUpdateSl=False, pivotN1N2=(20, 20), shortTermMA=50, longTermMA=200, uselongTermMA=False)\n",
      "HyperParamaters(useFilter=True, filterPercent=7.0, clusterBW=130, useSR=False, useUpdateSl=False, pivotN1N2=(20, 20), shortTermMA=60, longTermMA=200, uselongTermMA=False)\n",
      "HyperParamaters(useFilter=True, filterPercent=7.0, clusterBW=130, useSR=True, useUpdateSl=False, pivotN1N2=(20, 20), shortTermMA=50, longTermMA=200, uselongTermMA=False)\n",
      "HyperParamaters(useFilter=True, filterPercent=7.0, clusterBW=130, useSR=True, useUpdateSl=False, pivotN1N2=(20, 20), shortTermMA=30, longTermMA=200, uselongTermMA=False)\n",
      "HyperParamaters(useFilter=True, filterPercent=7.0, clusterBW=130, useSR=False, useUpdateSl=False, pivotN1N2=(20, 20), shortTermMA=30, longTermMA=200, uselongTermMA=False)\n",
      "HyperParamaters(useFilter=True, filterPercent=7.0, clusterBW=130, useSR=True, useUpdateSl=True, pivotN1N2=(20, 20), shortTermMA=30, longTermMA=200, uselongTermMA=False)\n"
     ]
    }
   ],
   "source": [
    "for key in myKeys: \n",
    "    print(MyScorer.hyperparametersByScore[key])"
   ]
  },
  {
   "cell_type": "code",
   "execution_count": 13,
   "metadata": {},
   "outputs": [
    {
     "name": "stdout",
     "output_type": "stream",
     "text": [
      "HyperParamaters(useFilter=True, filterPercent=5.0, clusterBW=90, useSR=True, useUpdateSl=True, longTermMA=150, uselongTermMA=False)\n",
      "HyperParamaters(useFilter=True, filterPercent=5.0, clusterBW=90, useSR=True, useUpdateSl=True, longTermMA=200, uselongTermMA=False)\n",
      "HyperParamaters(useFilter=True, filterPercent=5.0, clusterBW=90, useSR=True, useUpdateSl=False, longTermMA=200, uselongTermMA=False)\n",
      "HyperParamaters(useFilter=True, filterPercent=5.0, clusterBW=90, useSR=True, useUpdateSl=True, longTermMA=300, uselongTermMA=False)\n"
     ]
    }
   ],
   "source": [
    "print(MyScorer.hyperparametersByScore[0.5773884232345082])\n",
    "print(MyScorer.hyperparametersByScore[0.5761017449887972])\n",
    "print(MyScorer.hyperparametersByScore[0.5346332652047951])\n",
    "print(MyScorer.hyperparametersByScore[0.5312571603744237])\n"
   ]
  }
 ],
 "metadata": {
  "kernelspec": {
   "display_name": "Python 3",
   "language": "python",
   "name": "python3"
  },
  "language_info": {
   "codemirror_mode": {
    "name": "ipython",
    "version": 3
   },
   "file_extension": ".py",
   "mimetype": "text/x-python",
   "name": "python",
   "nbconvert_exporter": "python",
   "pygments_lexer": "ipython3",
   "version": "3.11.4"
  }
 },
 "nbformat": 4,
 "nbformat_minor": 2
}
