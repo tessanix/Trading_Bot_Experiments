{
 "cells": [
  {
   "cell_type": "code",
   "execution_count": 1,
   "metadata": {},
   "outputs": [],
   "source": [
    "import pandas as pd\n",
    "import utility\n",
    "\n",
    "pricesDataFolder = \"prices_data/\"\n",
    "dfH4 = pd.read_csv(\n",
    "    filepath_or_buffer=pricesDataFolder+\"H4/[SP500]_H4_2014-03-20__2024-03-20.csv\",\n",
    "    delimiter=\"\\t\"\n",
    ")\n",
    "\n",
    "dfH4 = dfH4.rename(\n",
    "    columns = {\n",
    "        '<OPEN>':'open', \n",
    "        '<HIGH>':'high', \n",
    "        '<LOW>':'low', \n",
    "        '<CLOSE>':'close'\n",
    "    }\n",
    ")\n",
    "\n",
    "dfH4['datetime'] = pd.to_datetime(dfH4['<DATE>'] + ' ' + dfH4['<TIME>'])\n",
    "dfH4 = dfH4.drop(['<TICKVOL>', '<VOL>', '<SPREAD>', '<DATE>', '<TIME>'], axis=1)\n",
    "dfH4 = utility.heikinashi(dfH4) #add heikin ashi candles\n",
    "dfH4[\"shortTermMA\"] = dfH4[\"close\"].rolling(window=50).mean() # add moving average 50\n",
    "dfH4[\"longTermMA\"] = dfH4[\"close\"].rolling(window=200).mean() # add moving average 200\n",
    "dfH4 = utility.addHACandleColor(dfH4)"
   ]
  },
  {
   "cell_type": "code",
   "execution_count": 2,
   "metadata": {},
   "outputs": [
    {
     "ename": "ModuleNotFoundError",
     "evalue": "No module named 'actor_critic'",
     "output_type": "error",
     "traceback": [
      "\u001b[0;31m---------------------------------------------------------------------------\u001b[0m",
      "\u001b[0;31mModuleNotFoundError\u001b[0m                       Traceback (most recent call last)",
      "Cell \u001b[0;32mIn[2], line 2\u001b[0m\n\u001b[1;32m      1\u001b[0m \u001b[38;5;28;01mfrom\u001b[39;00m \u001b[38;5;21;01mactor_critic_training\u001b[39;00m \u001b[38;5;28;01mimport\u001b[39;00m actorCritictrainingLoop\n\u001b[0;32m----> 2\u001b[0m \u001b[38;5;28;01mfrom\u001b[39;00m \u001b[38;5;21;01mactor_critic\u001b[39;00m\u001b[38;5;21;01m.\u001b[39;00m\u001b[38;5;21;01mtrading_agent\u001b[39;00m\u001b[38;5;21;01m.\u001b[39;00m\u001b[38;5;21;01magent\u001b[39;00m \u001b[38;5;28;01mimport\u001b[39;00m Agent\n\u001b[1;32m      3\u001b[0m \u001b[38;5;28;01mfrom\u001b[39;00m \u001b[38;5;21;01mstrategies\u001b[39;00m\u001b[38;5;21;01m.\u001b[39;00m\u001b[38;5;21;01mHeikin_Ashi_Moving_Average_Strategy\u001b[39;00m \u001b[38;5;28;01mimport\u001b[39;00m HeikinAshiMovingAverage\n\u001b[1;32m      5\u001b[0m agent \u001b[38;5;241m=\u001b[39m Agent()\n",
      "\u001b[0;31mModuleNotFoundError\u001b[0m: No module named 'actor_critic'"
     ]
    }
   ],
   "source": [
    "\n",
    "from actor_critic_training import actorCritictrainingLoop\n",
    "from reinforcement_learning.trading_agent.actor_critic.agent import Agent\n",
    "from strategies.Heikin_Ashi_Moving_Average_Strategy import HeikinAshiMovingAverage\n",
    "\n",
    "agent = Agent()\n",
    "strategy = HeikinAshiMovingAverage(agent, useSR=\"SRbyRL\", useUpdateSl=True, uselongTermMA=False)\n",
    "\n",
    "actorCritictrainingLoop(dfH4, strategy)"
   ]
  }
 ],
 "metadata": {
  "kernelspec": {
   "display_name": "Python 3",
   "language": "python",
   "name": "python3"
  },
  "language_info": {
   "codemirror_mode": {
    "name": "ipython",
    "version": 3
   },
   "file_extension": ".py",
   "mimetype": "text/x-python",
   "name": "python",
   "nbconvert_exporter": "python",
   "pygments_lexer": "ipython3",
   "version": "3.10.12"
  }
 },
 "nbformat": 4,
 "nbformat_minor": 2
}
